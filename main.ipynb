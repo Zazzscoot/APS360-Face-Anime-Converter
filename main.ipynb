{
  "cells": [
    {
      "cell_type": "code",
      "execution_count": null,
      "metadata": {
        "id": "CIZXlkBTUlcS"
      },
      "outputs": [],
      "source": [
        "print(\"Hello World!\")"
      ]
    },
    {
      "cell_type": "code",
      "source": [
        "import csv\n",
        "import numpy as np\n",
        "import random\n",
        "import torch\n",
        "import torch.utils.data\n",
        "import torchvision\n",
        "import torchvision.transforms as transforms\n",
        "device = torch.device(\"cuda:0\" if torch.cuda.is_available() else \"cpu\")\n",
        "device"
      ],
      "metadata": {
        "id": "AeZ6PYy4VVSp",
        "outputId": "9b8d6655-af27-4434-cf73-398615a20504",
        "colab": {
          "base_uri": "https://localhost:8080/"
        }
      },
      "execution_count": 1,
      "outputs": [
        {
          "output_type": "execute_result",
          "data": {
            "text/plain": [
              "device(type='cuda', index=0)"
            ]
          },
          "metadata": {},
          "execution_count": 1
        }
      ]
    },
    {
      "cell_type": "code",
      "source": [
        "import torch.nn as nn\n",
        "import torch.nn.functional as F\n",
        "import torch.optim as optim\n",
        "from matplotlib import pyplot as plt"
      ],
      "metadata": {
        "id": "-1efhkeYWbA-"
      },
      "execution_count": 8,
      "outputs": []
    },
    {
      "cell_type": "code",
      "source": [
        "class Discriminator(nn.Module):\n",
        "    def __init__(self):\n",
        "        super(Discriminator, self).__init__()\n",
        "        self.CNN = nn.Sequential(\n",
        "            nn.Conv2d(3, 5, 5),\n",
        "            nn.MaxPool2d(2, 2),\n",
        "            nn.Conv2d(5, 10, 5),\n",
        "            nn.Linear(10 * 5 * 5, 32),\n",
        "            nn.Linear(32, 1),\n",
        "            nn.Sigmoid()\n",
        "        )\n",
        "\n",
        "    def forward(self, x):\n",
        "        x = self.CNN(x)\n",
        "        return x"
      ],
      "metadata": {
        "id": "hRY0EkWQWUMx"
      },
      "execution_count": 7,
      "outputs": []
    },
    {
      "cell_type": "code",
      "source": [
        "def train_discriminator(model, train_data, val_data, num_epochs=5, learning_rate=0.001, batch_size=64):\n",
        "    \"\"\" Training loop. You should update this.\"\"\"\n",
        "    torch.manual_seed(1)\n",
        "    criterion = nn.BCEWithLogitsLoss()\n",
        "    optimizer = torch.optim.Adam(model.parameters(), lr=learning_rate)\n",
        "\n",
        "    train_loader = torch.utils.data.DataLoader(train_data, batch_size=batch_size, shuffle=True)\n",
        "    val_loader = torch.utils.data.DataLoader(val_data, batch_size=batch_size, shuffle=True)\n",
        "\n",
        "    training_accuracies = np.zeros(num_epochs)\n",
        "    validation_accuracies = np.zeros(num_epochs)\n",
        "\n",
        "    for epoch in range(num_epochs):\n",
        "        for data in train_loader:\n",
        "            data = data.cuda()\n",
        "            inputs, labels = data\n",
        "            out = Discriminator(inputs)\n",
        "            loss = criterion(out, labels)\n",
        "            loss.backward()\n",
        "            optimizer.step()\n",
        "            optimizer.zero_grad()\n",
        "          \n",
        "        training_accuracies[epoch] = (get_accuracy_discriminator(model, train_loader, batch_size))\n",
        "        val_accuracy = get_accuracy_discriminator(model, val_loader, batch_size)\n",
        "        validation_accuracies[epoch] = val_accuracy\n",
        "        print(\"Iteration\", epoch, \"Accuracy = \", val_accuracy)\n",
        "    \n",
        "    plt.plot(range(1, num_epochs+1), training_accuracies, label=\"Train\")\n",
        "    plt.plot(range(1, num_epochs+1), validation_accuracies, label=\"Validation\")\n",
        "    plt.show()\n",
        "\n",
        "def get_accuracy_discriminator(model, loader, batch_size):\n",
        "  correct = 0\n",
        "  all = 0\n",
        "  for data in loader:\n",
        "    data = data.cuda()\n",
        "    inputs, labels = data\n",
        "    out = Discriminator(inputs)\n",
        "    for unit in range(batch_size):\n",
        "      all += 1\n",
        "      if labels[unit] == 1 and out[unit] >= 0.5:\n",
        "        correct += 1\n",
        "      elif labels[unit] == 0 and out[unit] <= 0.5:\n",
        "        correct += 1\n",
        "  return correct / all"
      ],
      "metadata": {
        "id": "b4c8uh4xW-Xk"
      },
      "execution_count": 10,
      "outputs": []
    }
  ],
  "metadata": {
    "language_info": {
      "name": "python"
    },
    "orig_nbformat": 4,
    "colab": {
      "provenance": []
    },
    "kernelspec": {
      "name": "python3",
      "display_name": "Python 3"
    },
    "gpuClass": "standard",
    "accelerator": "GPU"
  },
  "nbformat": 4,
  "nbformat_minor": 0
}